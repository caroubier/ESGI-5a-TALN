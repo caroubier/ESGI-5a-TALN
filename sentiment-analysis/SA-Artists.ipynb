{
 "cells": [
  {
   "cell_type": "markdown",
   "metadata": {},
   "source": [
    "# Import "
   ]
  },
  {
   "cell_type": "code",
   "execution_count": 1,
   "metadata": {},
   "outputs": [],
   "source": [
    "import pandas as pd\n",
    "import numpy as np\n",
    "import spacy\n",
    "from sklearn.model_selection import train_test_split\n",
    "from spacy_langdetect import LanguageDetector\n",
    "import nltk  \n",
    "import numpy as np  \n",
    "import random  \n",
    "import string\n",
    "import matplotlib.pyplot as plt\n",
    "import urllib.request  \n",
    "import re  \n",
    "from nltk.corpus import sentiwordnet as swn\n",
    "from nltk.sentiment.vader import SentimentIntensityAnalyzer"
   ]
  },
  {
   "cell_type": "code",
   "execution_count": null,
   "metadata": {
    "scrolled": true
   },
   "outputs": [],
   "source": [
    "#!pip install spacy-langdetect"
   ]
  },
  {
   "cell_type": "code",
   "execution_count": null,
   "metadata": {},
   "outputs": [],
   "source": [
    "#!python -m spacy download en_core_web_lg"
   ]
  },
  {
   "cell_type": "code",
   "execution_count": 2,
   "metadata": {},
   "outputs": [],
   "source": [
    "nlp = spacy.load('en')\n",
    "nlp.add_pipe(LanguageDetector(), name='language_detector', last=True)"
   ]
  },
  {
   "cell_type": "code",
   "execution_count": 3,
   "metadata": {},
   "outputs": [],
   "source": [
    "FILE=\"f_df.csv\""
   ]
  },
  {
   "cell_type": "code",
   "execution_count": 4,
   "metadata": {},
   "outputs": [],
   "source": [
    "#pd.read_csv(\"final_df.csv\")"
   ]
  },
  {
   "cell_type": "code",
   "execution_count": 5,
   "metadata": {},
   "outputs": [],
   "source": [
    "df = pd.read_csv(FILE, sep=\",\" , index_col=['Unnamed: 0'])\n",
    "s= pd.Series(df.lyrics)\n",
    "s1=s.str.lower()\n",
    "s1\n",
    "df['paroles'] = s1\n",
    "df\n",
    "del df['lyrics']\n",
    "#df1 = s1.to_frame()"
   ]
  },
  {
   "cell_type": "code",
   "execution_count": 6,
   "metadata": {
    "scrolled": true
   },
   "outputs": [
    {
     "data": {
      "text/html": [
       "<div>\n",
       "<style scoped>\n",
       "    .dataframe tbody tr th:only-of-type {\n",
       "        vertical-align: middle;\n",
       "    }\n",
       "\n",
       "    .dataframe tbody tr th {\n",
       "        vertical-align: top;\n",
       "    }\n",
       "\n",
       "    .dataframe thead th {\n",
       "        text-align: right;\n",
       "    }\n",
       "</style>\n",
       "<table border=\"1\" class=\"dataframe\">\n",
       "  <thead>\n",
       "    <tr style=\"text-align: right;\">\n",
       "      <th></th>\n",
       "      <th>song</th>\n",
       "      <th>year</th>\n",
       "      <th>artist</th>\n",
       "      <th>genre</th>\n",
       "      <th>paroles</th>\n",
       "    </tr>\n",
       "  </thead>\n",
       "  <tbody>\n",
       "    <tr>\n",
       "      <td>0</td>\n",
       "      <td>i-got-that</td>\n",
       "      <td>2007</td>\n",
       "      <td>eazy-e</td>\n",
       "      <td>Hip-Hop</td>\n",
       "      <td>...\\n\\ntimbo- when you hit me on my phone bett...</td>\n",
       "    </tr>\n",
       "    <tr>\n",
       "      <td>1</td>\n",
       "      <td>8-ball-remix</td>\n",
       "      <td>2007</td>\n",
       "      <td>eazy-e</td>\n",
       "      <td>Hip-Hop</td>\n",
       "      <td>verse 1:\\ni don't drink brass monkey, like to ...</td>\n",
       "    </tr>\n",
       "    <tr>\n",
       "      <td>2</td>\n",
       "      <td>extra-special-thankz</td>\n",
       "      <td>2007</td>\n",
       "      <td>eazy-e</td>\n",
       "      <td>Hip-Hop</td>\n",
       "      <td>19 muthaphukkin 93,\\nand i'm back in this bitc...</td>\n",
       "    </tr>\n",
       "    <tr>\n",
       "      <td>3</td>\n",
       "      <td>boyz-in-da-hood</td>\n",
       "      <td>2007</td>\n",
       "      <td>eazy-e</td>\n",
       "      <td>Hip-Hop</td>\n",
       "      <td>hey yo man, remember that shit eazy did a whil...</td>\n",
       "    </tr>\n",
       "    <tr>\n",
       "      <td>4</td>\n",
       "      <td>automoblie</td>\n",
       "      <td>2007</td>\n",
       "      <td>eazy-e</td>\n",
       "      <td>Hip-Hop</td>\n",
       "      <td>yo, dre, man, i take this bitch out to the mov...</td>\n",
       "    </tr>\n",
       "    <tr>\n",
       "      <td>...</td>\n",
       "      <td>...</td>\n",
       "      <td>...</td>\n",
       "      <td>...</td>\n",
       "      <td>...</td>\n",
       "      <td>...</td>\n",
       "    </tr>\n",
       "    <tr>\n",
       "      <td>231309</td>\n",
       "      <td>who-am-i-drinking-tonight</td>\n",
       "      <td>2012</td>\n",
       "      <td>edens-edge</td>\n",
       "      <td>Country</td>\n",
       "      <td>i gotta say\\nboy, after only just a couple of ...</td>\n",
       "    </tr>\n",
       "    <tr>\n",
       "      <td>231310</td>\n",
       "      <td>liar</td>\n",
       "      <td>2012</td>\n",
       "      <td>edens-edge</td>\n",
       "      <td>Country</td>\n",
       "      <td>i helped you find her diamond ring\\nyou made m...</td>\n",
       "    </tr>\n",
       "    <tr>\n",
       "      <td>231311</td>\n",
       "      <td>last-supper</td>\n",
       "      <td>2012</td>\n",
       "      <td>edens-edge</td>\n",
       "      <td>Country</td>\n",
       "      <td>look at the couple in the corner booth\\nlooks ...</td>\n",
       "    </tr>\n",
       "    <tr>\n",
       "      <td>231312</td>\n",
       "      <td>christ-alone-live-in-studio</td>\n",
       "      <td>2012</td>\n",
       "      <td>edens-edge</td>\n",
       "      <td>Country</td>\n",
       "      <td>when i fly off this mortal earth\\nand i'm meas...</td>\n",
       "    </tr>\n",
       "    <tr>\n",
       "      <td>231313</td>\n",
       "      <td>amen</td>\n",
       "      <td>2012</td>\n",
       "      <td>edens-edge</td>\n",
       "      <td>Country</td>\n",
       "      <td>i heard from a friend of a friend of a friend ...</td>\n",
       "    </tr>\n",
       "  </tbody>\n",
       "</table>\n",
       "<p>230129 rows × 5 columns</p>\n",
       "</div>"
      ],
      "text/plain": [
       "                               song  year      artist    genre  \\\n",
       "0                        i-got-that  2007      eazy-e  Hip-Hop   \n",
       "1                      8-ball-remix  2007      eazy-e  Hip-Hop   \n",
       "2              extra-special-thankz  2007      eazy-e  Hip-Hop   \n",
       "3                   boyz-in-da-hood  2007      eazy-e  Hip-Hop   \n",
       "4                        automoblie  2007      eazy-e  Hip-Hop   \n",
       "...                             ...   ...         ...      ...   \n",
       "231309    who-am-i-drinking-tonight  2012  edens-edge  Country   \n",
       "231310                         liar  2012  edens-edge  Country   \n",
       "231311                  last-supper  2012  edens-edge  Country   \n",
       "231312  christ-alone-live-in-studio  2012  edens-edge  Country   \n",
       "231313                         amen  2012  edens-edge  Country   \n",
       "\n",
       "                                                  paroles  \n",
       "0       ...\\n\\ntimbo- when you hit me on my phone bett...  \n",
       "1       verse 1:\\ni don't drink brass monkey, like to ...  \n",
       "2       19 muthaphukkin 93,\\nand i'm back in this bitc...  \n",
       "3       hey yo man, remember that shit eazy did a whil...  \n",
       "4       yo, dre, man, i take this bitch out to the mov...  \n",
       "...                                                   ...  \n",
       "231309  i gotta say\\nboy, after only just a couple of ...  \n",
       "231310  i helped you find her diamond ring\\nyou made m...  \n",
       "231311  look at the couple in the corner booth\\nlooks ...  \n",
       "231312  when i fly off this mortal earth\\nand i'm meas...  \n",
       "231313  i heard from a friend of a friend of a friend ...  \n",
       "\n",
       "[230129 rows x 5 columns]"
      ]
     },
     "execution_count": 6,
     "metadata": {},
     "output_type": "execute_result"
    }
   ],
   "source": [
    "df"
   ]
  },
  {
   "cell_type": "markdown",
   "metadata": {},
   "source": [
    "# Sentiments Analysis"
   ]
  },
  {
   "cell_type": "code",
   "execution_count": null,
   "metadata": {},
   "outputs": [],
   "source": [
    "sid = SentimentIntensityAnalyzer()\n",
    "counter = 0\n",
    "max_ = len(df.index)\n",
    "\n",
    "cols = {\n",
    "    'song': [],\n",
    "    'year': [],\n",
    "    'artist': [],\n",
    "    'genre': [],\n",
    "    'lyrics': [],\n",
    "    'pos': [],\n",
    "    'neu': [],\n",
    "    'neg': []\n",
    "}\n",
    "df1 = pd.DataFrame(cols)\n",
    "\n",
    "# Pour chaque paroles dans le dataset\n",
    "for index in df.index:\n",
    "    lyrics = df.loc[index][\"paroles\"]\n",
    "\n",
    "    # Score de positivité\n",
    "    comp = sid.polarity_scores(lyrics)\n",
    "    comp = comp['compound']\n",
    "\n",
    "    # Récupération des valeurs initiales\n",
    "    for col in df.columns:\n",
    "        df1.loc[index, col] = df.loc[index][col]\n",
    "    # Ajout des nouvelles valeurs\n",
    "    df1.loc[index, \"pos\"] = int(comp >= 0.5)\n",
    "    df1.loc[index, \"neu\"] = int(0.5 > comp >= -0.5)\n",
    "    df1.loc[index, \"neg\"] = int(comp <-0.5)\n",
    "\n",
    "    # Affichage de la progression\n",
    "    print(f\"{round(counter/max_*100,2)}%\", end='\\r')\n",
    "\n",
    "    # Mise à jour du counter\n",
    "    counter += 1"
   ]
  },
  {
   "cell_type": "code",
   "execution_count": null,
   "metadata": {},
   "outputs": [],
   "source": [
    "del df1['lyrics']"
   ]
  },
  {
   "cell_type": "code",
   "execution_count": null,
   "metadata": {},
   "outputs": [],
   "source": [
    "df1"
   ]
  },
  {
   "cell_type": "code",
   "execution_count": null,
   "metadata": {},
   "outputs": [],
   "source": [
    "df1.to_excel(\"output.xlsx\",engine='xlsxwriter')"
   ]
  },
  {
   "cell_type": "code",
   "execution_count": null,
   "metadata": {},
   "outputs": [],
   "source": [
    "#!pip install xlsxwriter"
   ]
  },
  {
   "cell_type": "code",
   "execution_count": null,
   "metadata": {},
   "outputs": [],
   "source": [
    "plot_size = plt.rcParams[\"figure.figsize\"] \n",
    "print(plot_size[0]) \n",
    "print(plot_size[1])\n",
    "\n",
    "plot_size[0] = 8\n",
    "plot_size[1] = 6\n",
    "plt.rcParams[\"figure.figsize\"] = plot_size "
   ]
  },
  {
   "cell_type": "code",
   "execution_count": null,
   "metadata": {},
   "outputs": [],
   "source": [
    "df1.genre.value_counts().plot(kind='pie', autopct='%1.0f%%')"
   ]
  },
  {
   "cell_type": "code",
   "execution_count": null,
   "metadata": {},
   "outputs": [],
   "source": [
    "#df1.artist.value_counts().plot(kind='pie', autopct='%1.0f%%')"
   ]
  },
  {
   "cell_type": "code",
   "execution_count": null,
   "metadata": {},
   "outputs": [],
   "source": [
    "df1"
   ]
  },
  {
   "cell_type": "markdown",
   "metadata": {},
   "source": [
    "# SA By Artists"
   ]
  },
  {
   "cell_type": "code",
   "execution_count": 8,
   "metadata": {},
   "outputs": [],
   "source": [
    "artists = [a for a in df[\"artist\"].unique()]"
   ]
  },
  {
   "cell_type": "code",
   "execution_count": 13,
   "metadata": {},
   "outputs": [
    {
     "data": {
      "text/html": [
       "<div>\n",
       "<style scoped>\n",
       "    .dataframe tbody tr th:only-of-type {\n",
       "        vertical-align: middle;\n",
       "    }\n",
       "\n",
       "    .dataframe tbody tr th {\n",
       "        vertical-align: top;\n",
       "    }\n",
       "\n",
       "    .dataframe thead th {\n",
       "        text-align: right;\n",
       "    }\n",
       "</style>\n",
       "<table border=\"1\" class=\"dataframe\">\n",
       "  <thead>\n",
       "    <tr style=\"text-align: right;\">\n",
       "      <th></th>\n",
       "      <th>song</th>\n",
       "      <th>year</th>\n",
       "      <th>artist</th>\n",
       "      <th>genre</th>\n",
       "      <th>paroles</th>\n",
       "    </tr>\n",
       "  </thead>\n",
       "  <tbody>\n",
       "    <tr>\n",
       "      <td>0</td>\n",
       "      <td>i-got-that</td>\n",
       "      <td>2007</td>\n",
       "      <td>eazy-e</td>\n",
       "      <td>Hip-Hop</td>\n",
       "      <td>...\\n\\ntimbo- when you hit me on my phone bett...</td>\n",
       "    </tr>\n",
       "    <tr>\n",
       "      <td>1</td>\n",
       "      <td>8-ball-remix</td>\n",
       "      <td>2007</td>\n",
       "      <td>eazy-e</td>\n",
       "      <td>Hip-Hop</td>\n",
       "      <td>verse 1:\\ni don't drink brass monkey, like to ...</td>\n",
       "    </tr>\n",
       "    <tr>\n",
       "      <td>2</td>\n",
       "      <td>extra-special-thankz</td>\n",
       "      <td>2007</td>\n",
       "      <td>eazy-e</td>\n",
       "      <td>Hip-Hop</td>\n",
       "      <td>19 muthaphukkin 93,\\nand i'm back in this bitc...</td>\n",
       "    </tr>\n",
       "    <tr>\n",
       "      <td>3</td>\n",
       "      <td>boyz-in-da-hood</td>\n",
       "      <td>2007</td>\n",
       "      <td>eazy-e</td>\n",
       "      <td>Hip-Hop</td>\n",
       "      <td>hey yo man, remember that shit eazy did a whil...</td>\n",
       "    </tr>\n",
       "    <tr>\n",
       "      <td>4</td>\n",
       "      <td>automoblie</td>\n",
       "      <td>2007</td>\n",
       "      <td>eazy-e</td>\n",
       "      <td>Hip-Hop</td>\n",
       "      <td>yo, dre, man, i take this bitch out to the mov...</td>\n",
       "    </tr>\n",
       "    <tr>\n",
       "      <td>...</td>\n",
       "      <td>...</td>\n",
       "      <td>...</td>\n",
       "      <td>...</td>\n",
       "      <td>...</td>\n",
       "      <td>...</td>\n",
       "    </tr>\n",
       "    <tr>\n",
       "      <td>231309</td>\n",
       "      <td>who-am-i-drinking-tonight</td>\n",
       "      <td>2012</td>\n",
       "      <td>edens-edge</td>\n",
       "      <td>Country</td>\n",
       "      <td>i gotta say\\nboy, after only just a couple of ...</td>\n",
       "    </tr>\n",
       "    <tr>\n",
       "      <td>231310</td>\n",
       "      <td>liar</td>\n",
       "      <td>2012</td>\n",
       "      <td>edens-edge</td>\n",
       "      <td>Country</td>\n",
       "      <td>i helped you find her diamond ring\\nyou made m...</td>\n",
       "    </tr>\n",
       "    <tr>\n",
       "      <td>231311</td>\n",
       "      <td>last-supper</td>\n",
       "      <td>2012</td>\n",
       "      <td>edens-edge</td>\n",
       "      <td>Country</td>\n",
       "      <td>look at the couple in the corner booth\\nlooks ...</td>\n",
       "    </tr>\n",
       "    <tr>\n",
       "      <td>231312</td>\n",
       "      <td>christ-alone-live-in-studio</td>\n",
       "      <td>2012</td>\n",
       "      <td>edens-edge</td>\n",
       "      <td>Country</td>\n",
       "      <td>when i fly off this mortal earth\\nand i'm meas...</td>\n",
       "    </tr>\n",
       "    <tr>\n",
       "      <td>231313</td>\n",
       "      <td>amen</td>\n",
       "      <td>2012</td>\n",
       "      <td>edens-edge</td>\n",
       "      <td>Country</td>\n",
       "      <td>i heard from a friend of a friend of a friend ...</td>\n",
       "    </tr>\n",
       "  </tbody>\n",
       "</table>\n",
       "<p>230129 rows × 5 columns</p>\n",
       "</div>"
      ],
      "text/plain": [
       "                               song  year      artist    genre  \\\n",
       "0                        i-got-that  2007      eazy-e  Hip-Hop   \n",
       "1                      8-ball-remix  2007      eazy-e  Hip-Hop   \n",
       "2              extra-special-thankz  2007      eazy-e  Hip-Hop   \n",
       "3                   boyz-in-da-hood  2007      eazy-e  Hip-Hop   \n",
       "4                        automoblie  2007      eazy-e  Hip-Hop   \n",
       "...                             ...   ...         ...      ...   \n",
       "231309    who-am-i-drinking-tonight  2012  edens-edge  Country   \n",
       "231310                         liar  2012  edens-edge  Country   \n",
       "231311                  last-supper  2012  edens-edge  Country   \n",
       "231312  christ-alone-live-in-studio  2012  edens-edge  Country   \n",
       "231313                         amen  2012  edens-edge  Country   \n",
       "\n",
       "                                                  paroles  \n",
       "0       ...\\n\\ntimbo- when you hit me on my phone bett...  \n",
       "1       verse 1:\\ni don't drink brass monkey, like to ...  \n",
       "2       19 muthaphukkin 93,\\nand i'm back in this bitc...  \n",
       "3       hey yo man, remember that shit eazy did a whil...  \n",
       "4       yo, dre, man, i take this bitch out to the mov...  \n",
       "...                                                   ...  \n",
       "231309  i gotta say\\nboy, after only just a couple of ...  \n",
       "231310  i helped you find her diamond ring\\nyou made m...  \n",
       "231311  look at the couple in the corner booth\\nlooks ...  \n",
       "231312  when i fly off this mortal earth\\nand i'm meas...  \n",
       "231313  i heard from a friend of a friend of a friend ...  \n",
       "\n",
       "[230129 rows x 5 columns]"
      ]
     },
     "execution_count": 13,
     "metadata": {},
     "output_type": "execute_result"
    }
   ],
   "source": [
    "df"
   ]
  },
  {
   "cell_type": "code",
   "execution_count": 14,
   "metadata": {},
   "outputs": [
    {
     "data": {
      "text/html": [
       "<div>\n",
       "<style scoped>\n",
       "    .dataframe tbody tr th:only-of-type {\n",
       "        vertical-align: middle;\n",
       "    }\n",
       "\n",
       "    .dataframe tbody tr th {\n",
       "        vertical-align: top;\n",
       "    }\n",
       "\n",
       "    .dataframe thead th {\n",
       "        text-align: right;\n",
       "    }\n",
       "</style>\n",
       "<table border=\"1\" class=\"dataframe\">\n",
       "  <thead>\n",
       "    <tr style=\"text-align: right;\">\n",
       "      <th></th>\n",
       "      <th>artist</th>\n",
       "      <th>pos</th>\n",
       "      <th>neu</th>\n",
       "      <th>neg</th>\n",
       "    </tr>\n",
       "  </thead>\n",
       "  <tbody>\n",
       "    <tr>\n",
       "      <td>0</td>\n",
       "      <td>eazy-e</td>\n",
       "      <td>15.662651</td>\n",
       "      <td>1.204819</td>\n",
       "      <td>83.132530</td>\n",
       "    </tr>\n",
       "    <tr>\n",
       "      <td>1</td>\n",
       "      <td>asher-monroe</td>\n",
       "      <td>63.636364</td>\n",
       "      <td>0.000000</td>\n",
       "      <td>36.363636</td>\n",
       "    </tr>\n",
       "    <tr>\n",
       "      <td>2</td>\n",
       "      <td>dick-mace</td>\n",
       "      <td>100.000000</td>\n",
       "      <td>0.000000</td>\n",
       "      <td>0.000000</td>\n",
       "    </tr>\n",
       "    <tr>\n",
       "      <td>3</td>\n",
       "      <td>alice-on-the-roof</td>\n",
       "      <td>0.000000</td>\n",
       "      <td>0.000000</td>\n",
       "      <td>100.000000</td>\n",
       "    </tr>\n",
       "    <tr>\n",
       "      <td>4</td>\n",
       "      <td>daliah-lavi</td>\n",
       "      <td>0.000000</td>\n",
       "      <td>0.000000</td>\n",
       "      <td>100.000000</td>\n",
       "    </tr>\n",
       "    <tr>\n",
       "      <td>...</td>\n",
       "      <td>...</td>\n",
       "      <td>...</td>\n",
       "      <td>...</td>\n",
       "      <td>...</td>\n",
       "    </tr>\n",
       "    <tr>\n",
       "      <td>11335</td>\n",
       "      <td>clay-walker</td>\n",
       "      <td>68.965517</td>\n",
       "      <td>11.206897</td>\n",
       "      <td>19.827586</td>\n",
       "    </tr>\n",
       "    <tr>\n",
       "      <td>11336</td>\n",
       "      <td>dub-fx</td>\n",
       "      <td>33.333333</td>\n",
       "      <td>16.666667</td>\n",
       "      <td>50.000000</td>\n",
       "    </tr>\n",
       "    <tr>\n",
       "      <td>11337</td>\n",
       "      <td>corroded</td>\n",
       "      <td>33.333333</td>\n",
       "      <td>0.000000</td>\n",
       "      <td>66.666667</td>\n",
       "    </tr>\n",
       "    <tr>\n",
       "      <td>11338</td>\n",
       "      <td>damon-albarn</td>\n",
       "      <td>56.521739</td>\n",
       "      <td>26.086957</td>\n",
       "      <td>17.391304</td>\n",
       "    </tr>\n",
       "    <tr>\n",
       "      <td>11339</td>\n",
       "      <td>edens-edge</td>\n",
       "      <td>90.000000</td>\n",
       "      <td>0.000000</td>\n",
       "      <td>10.000000</td>\n",
       "    </tr>\n",
       "  </tbody>\n",
       "</table>\n",
       "<p>11340 rows × 4 columns</p>\n",
       "</div>"
      ],
      "text/plain": [
       "                  artist         pos        neu         neg\n",
       "0                 eazy-e   15.662651   1.204819   83.132530\n",
       "1           asher-monroe   63.636364   0.000000   36.363636\n",
       "2              dick-mace  100.000000   0.000000    0.000000\n",
       "3      alice-on-the-roof    0.000000   0.000000  100.000000\n",
       "4            daliah-lavi    0.000000   0.000000  100.000000\n",
       "...                  ...         ...        ...         ...\n",
       "11335        clay-walker   68.965517  11.206897   19.827586\n",
       "11336             dub-fx   33.333333  16.666667   50.000000\n",
       "11337           corroded   33.333333   0.000000   66.666667\n",
       "11338       damon-albarn   56.521739  26.086957   17.391304\n",
       "11339         edens-edge   90.000000   0.000000   10.000000\n",
       "\n",
       "[11340 rows x 4 columns]"
      ]
     },
     "execution_count": 14,
     "metadata": {},
     "output_type": "execute_result"
    }
   ],
   "source": [
    "df2"
   ]
  },
  {
   "cell_type": "code",
   "execution_count": 17,
   "metadata": {},
   "outputs": [
    {
     "data": {
      "image/png": "[encoded data removed]",
      "text/plain": [
       "<Figure size 432x288 with 1 Axes>"
      ]
     },
     "metadata": {
      "needs_background": "light"
     },
     "output_type": "display_data"
    }
   ],
   "source": [
    "df2[:15].plot.bar(x='artist', stacked=True)\n",
    "plt.show()"
   ]
  },
  {
   "cell_type": "code",
   "execution_count": 10,
   "metadata": {},
   "outputs": [
    {
     "data": {
      "image/png": "[encoded data removed]",
      "text/plain": [
       "<Figure size 432x288 with 1 Axes>"
      ]
     },
     "metadata": {
      "needs_background": "light"
     },
     "output_type": "display_data"
    }
   ],
   "source": [
    "df2 = pd.DataFrame(columns=('artist', 'pos', 'neu', 'neg'))\n",
    "sid = SentimentIntensityAnalyzer()\n",
    "i=0\n",
    "\n",
    "for artist in artists:\n",
    "    num_positive = 0\n",
    "    num_negative = 0\n",
    "    num_neutral = 0\n",
    "\n",
    "    for sentence in df.loc[df['artist'] == artist][\"paroles\"]:\n",
    "        comp = sid.polarity_scores(sentence)\n",
    "        comp = comp['compound']\n",
    "        if comp >= 0.5:\n",
    "            num_positive += 1\n",
    "        elif comp > -0.5 and comp < 0.5:\n",
    "            num_neutral += 1\n",
    "        else:\n",
    "            num_negative += 1\n",
    "\n",
    "    num_total = num_negative + num_neutral + num_positive\n",
    "    try:\n",
    "        percent_negative = (num_negative/float(num_total))*100\n",
    "    except ZeroDivisionError as zero_division_error:\n",
    "        print(artist)\n",
    "        print(df.loc[df['artist'] == artist][\"paroles\"])\n",
    "        break\n",
    "    percent_neutral = (num_neutral/float(num_total))*100\n",
    "    percent_positive = (num_positive/float(num_total))*100\n",
    "    df2.loc[i] = (artist, percent_positive, percent_neutral, percent_negative)\n",
    "    i+=1\n",
    "\n",
    "df2.plot.bar(x='artist', stacked=True)\n",
    "plt.show()\n"
   ]
  },
  {
   "cell_type": "code",
   "execution_count": 18,
   "metadata": {},
   "outputs": [],
   "source": [
    "df2.to_excel(\"sa_artist.xlsx\",engine='xlsxwriter')"
   ]
  },
  {
   "cell_type": "markdown",
   "metadata": {},
   "source": [
    "# lexical richness"
   ]
  },
  {
   "cell_type": "code",
   "execution_count": null,
   "metadata": {},
   "outputs": [],
   "source": [
    "from nltk.corpus import stopwords\n",
    "\n",
    "df3 = pd.DataFrame(columns=('artist', 'lexicalrichness'))\n",
    "for artist in df['artist']:\n",
    "    all_words = ''\n",
    "    num_words = 0\n",
    "    raw_text = \"\"\n",
    "    for sentence in df.loc[df['artist'] == artist][\"paroles\"]:\n",
    "        raw_text += sentence\n",
    "            \n",
    "    words = raw_text.split(\" \")\n",
    "    filtered_words = [word for word in words if word not in stopwords.words('english') and len(word) > 1 and word not in ['na','la']] # remove the stopwords\n",
    "    \n",
    "    a = len(set(filtered_words))\n",
    "    b = len(words)\n",
    "    df3.loc[i] = (artist, (a/float(b))*100)\n",
    "    i+=1\n",
    "    \n",
    "df3.plot.bar(x='artist', y='lexicalrichness', title='Lexical richness of each Artist');\n",
    "plt.show()  "
   ]
  },
  {
   "cell_type": "code",
   "execution_count": null,
   "metadata": {},
   "outputs": [],
   "source": []
  }
 ],
 "metadata": {
  "kernelspec": {
   "display_name": "Python 3",
   "language": "python",
   "name": "python3"
  },
  "language_info": {
   "codemirror_mode": {
    "name": "ipython",
    "version": 3
   },
   "file_extension": ".py",
   "mimetype": "text/x-python",
   "name": "python",
   "nbconvert_exporter": "python",
   "pygments_lexer": "ipython3",
   "version": "3.7.4"
  }
 },
 "nbformat": 4,
 "nbformat_minor": 2
}
