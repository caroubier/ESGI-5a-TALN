{
 "cells": [
  {
   "cell_type": "markdown",
   "metadata": {},
   "source": [
    "# Import "
   ]
  },
  {
   "cell_type": "code",
   "execution_count": 1,
   "metadata": {},
   "outputs": [],
   "source": [
    "import pandas as pd\n",
    "import numpy as np\n",
    "import spacy\n",
    "from sklearn.model_selection import train_test_split\n",
    "from spacy_langdetect import LanguageDetector\n",
    "import nltk  \n",
    "import numpy as np  \n",
    "import random  \n",
    "import string\n",
    "import matplotlib.pyplot as plt\n",
    "import urllib.request  \n",
    "import re  \n",
    "from nltk.corpus import sentiwordnet as swn\n",
    "from nltk.sentiment.vader import SentimentIntensityAnalyzer"
   ]
  },
  {
   "cell_type": "code",
   "execution_count": null,
   "metadata": {
    "scrolled": true
   },
   "outputs": [],
   "source": [
    "#!pip install spacy-langdetect"
   ]
  },
  {
   "cell_type": "code",
   "execution_count": null,
   "metadata": {},
   "outputs": [],
   "source": [
    "#!python -m spacy download en_core_web_lg"
   ]
  },
  {
   "cell_type": "code",
   "execution_count": 2,
   "metadata": {},
   "outputs": [],
   "source": [
    "nlp = spacy.load('en')\n",
    "nlp.add_pipe(LanguageDetector(), name='language_detector', last=True)"
   ]
  },
  {
   "cell_type": "code",
   "execution_count": 3,
   "metadata": {},
   "outputs": [],
   "source": [
    "FILE=\"f_df.csv\""
   ]
  },
  {
   "cell_type": "code",
   "execution_count": null,
   "metadata": {},
   "outputs": [],
   "source": [
    "#pd.read_csv(\"final_df.csv\")"
   ]
  },
  {
   "cell_type": "code",
   "execution_count": 4,
   "metadata": {},
   "outputs": [],
   "source": [
    "df = pd.read_csv(FILE, sep=\",\" , index_col=['Unnamed: 0'])\n",
    "s= pd.Series(df.lyrics)\n",
    "s1=s.str.lower()\n",
    "s1\n",
    "df['paroles'] = s1\n",
    "df\n",
    "del df['lyrics']\n",
    "#df1 = s1.to_frame()"
   ]
  },
  {
   "cell_type": "code",
   "execution_count": 5,
   "metadata": {
    "scrolled": true
   },
   "outputs": [
    {
     "data": {
      "text/html": [
       "<div>\n",
       "<style scoped>\n",
       "    .dataframe tbody tr th:only-of-type {\n",
       "        vertical-align: middle;\n",
       "    }\n",
       "\n",
       "    .dataframe tbody tr th {\n",
       "        vertical-align: top;\n",
       "    }\n",
       "\n",
       "    .dataframe thead th {\n",
       "        text-align: right;\n",
       "    }\n",
       "</style>\n",
       "<table border=\"1\" class=\"dataframe\">\n",
       "  <thead>\n",
       "    <tr style=\"text-align: right;\">\n",
       "      <th></th>\n",
       "      <th>song</th>\n",
       "      <th>year</th>\n",
       "      <th>artist</th>\n",
       "      <th>genre</th>\n",
       "      <th>paroles</th>\n",
       "    </tr>\n",
       "  </thead>\n",
       "  <tbody>\n",
       "    <tr>\n",
       "      <td>0</td>\n",
       "      <td>i-got-that</td>\n",
       "      <td>2007</td>\n",
       "      <td>eazy-e</td>\n",
       "      <td>Hip-Hop</td>\n",
       "      <td>...\\n\\ntimbo- when you hit me on my phone bett...</td>\n",
       "    </tr>\n",
       "    <tr>\n",
       "      <td>1</td>\n",
       "      <td>8-ball-remix</td>\n",
       "      <td>2007</td>\n",
       "      <td>eazy-e</td>\n",
       "      <td>Hip-Hop</td>\n",
       "      <td>verse 1:\\ni don't drink brass monkey, like to ...</td>\n",
       "    </tr>\n",
       "    <tr>\n",
       "      <td>2</td>\n",
       "      <td>extra-special-thankz</td>\n",
       "      <td>2007</td>\n",
       "      <td>eazy-e</td>\n",
       "      <td>Hip-Hop</td>\n",
       "      <td>19 muthaphukkin 93,\\nand i'm back in this bitc...</td>\n",
       "    </tr>\n",
       "    <tr>\n",
       "      <td>3</td>\n",
       "      <td>boyz-in-da-hood</td>\n",
       "      <td>2007</td>\n",
       "      <td>eazy-e</td>\n",
       "      <td>Hip-Hop</td>\n",
       "      <td>hey yo man, remember that shit eazy did a whil...</td>\n",
       "    </tr>\n",
       "    <tr>\n",
       "      <td>4</td>\n",
       "      <td>automoblie</td>\n",
       "      <td>2007</td>\n",
       "      <td>eazy-e</td>\n",
       "      <td>Hip-Hop</td>\n",
       "      <td>yo, dre, man, i take this bitch out to the mov...</td>\n",
       "    </tr>\n",
       "    <tr>\n",
       "      <td>...</td>\n",
       "      <td>...</td>\n",
       "      <td>...</td>\n",
       "      <td>...</td>\n",
       "      <td>...</td>\n",
       "      <td>...</td>\n",
       "    </tr>\n",
       "    <tr>\n",
       "      <td>231309</td>\n",
       "      <td>who-am-i-drinking-tonight</td>\n",
       "      <td>2012</td>\n",
       "      <td>edens-edge</td>\n",
       "      <td>Country</td>\n",
       "      <td>i gotta say\\nboy, after only just a couple of ...</td>\n",
       "    </tr>\n",
       "    <tr>\n",
       "      <td>231310</td>\n",
       "      <td>liar</td>\n",
       "      <td>2012</td>\n",
       "      <td>edens-edge</td>\n",
       "      <td>Country</td>\n",
       "      <td>i helped you find her diamond ring\\nyou made m...</td>\n",
       "    </tr>\n",
       "    <tr>\n",
       "      <td>231311</td>\n",
       "      <td>last-supper</td>\n",
       "      <td>2012</td>\n",
       "      <td>edens-edge</td>\n",
       "      <td>Country</td>\n",
       "      <td>look at the couple in the corner booth\\nlooks ...</td>\n",
       "    </tr>\n",
       "    <tr>\n",
       "      <td>231312</td>\n",
       "      <td>christ-alone-live-in-studio</td>\n",
       "      <td>2012</td>\n",
       "      <td>edens-edge</td>\n",
       "      <td>Country</td>\n",
       "      <td>when i fly off this mortal earth\\nand i'm meas...</td>\n",
       "    </tr>\n",
       "    <tr>\n",
       "      <td>231313</td>\n",
       "      <td>amen</td>\n",
       "      <td>2012</td>\n",
       "      <td>edens-edge</td>\n",
       "      <td>Country</td>\n",
       "      <td>i heard from a friend of a friend of a friend ...</td>\n",
       "    </tr>\n",
       "  </tbody>\n",
       "</table>\n",
       "<p>230129 rows × 5 columns</p>\n",
       "</div>"
      ],
      "text/plain": [
       "                               song  year      artist    genre  \\\n",
       "0                        i-got-that  2007      eazy-e  Hip-Hop   \n",
       "1                      8-ball-remix  2007      eazy-e  Hip-Hop   \n",
       "2              extra-special-thankz  2007      eazy-e  Hip-Hop   \n",
       "3                   boyz-in-da-hood  2007      eazy-e  Hip-Hop   \n",
       "4                        automoblie  2007      eazy-e  Hip-Hop   \n",
       "...                             ...   ...         ...      ...   \n",
       "231309    who-am-i-drinking-tonight  2012  edens-edge  Country   \n",
       "231310                         liar  2012  edens-edge  Country   \n",
       "231311                  last-supper  2012  edens-edge  Country   \n",
       "231312  christ-alone-live-in-studio  2012  edens-edge  Country   \n",
       "231313                         amen  2012  edens-edge  Country   \n",
       "\n",
       "                                                  paroles  \n",
       "0       ...\\n\\ntimbo- when you hit me on my phone bett...  \n",
       "1       verse 1:\\ni don't drink brass monkey, like to ...  \n",
       "2       19 muthaphukkin 93,\\nand i'm back in this bitc...  \n",
       "3       hey yo man, remember that shit eazy did a whil...  \n",
       "4       yo, dre, man, i take this bitch out to the mov...  \n",
       "...                                                   ...  \n",
       "231309  i gotta say\\nboy, after only just a couple of ...  \n",
       "231310  i helped you find her diamond ring\\nyou made m...  \n",
       "231311  look at the couple in the corner booth\\nlooks ...  \n",
       "231312  when i fly off this mortal earth\\nand i'm meas...  \n",
       "231313  i heard from a friend of a friend of a friend ...  \n",
       "\n",
       "[230129 rows x 5 columns]"
      ]
     },
     "execution_count": 5,
     "metadata": {},
     "output_type": "execute_result"
    }
   ],
   "source": [
    "df"
   ]
  },
  {
   "cell_type": "markdown",
   "metadata": {},
   "source": [
    "# Sentiments Analysis By Lyrics"
   ]
  },
  {
   "cell_type": "code",
   "execution_count": 13,
   "metadata": {},
   "outputs": [
    {
     "name": "stdout",
     "output_type": "stream",
     "text": [
      "100.0%\r"
     ]
    }
   ],
   "source": [
    "sid = SentimentIntensityAnalyzer()\n",
    "counter = 0\n",
    "max_ = len(df.index)\n",
    "\n",
    "cols = {\n",
    "    'song': [],\n",
    "    'year': [],\n",
    "    'artist': [],\n",
    "    'genre': [],\n",
    "    'lyrics': [],\n",
    "    'pos': [],\n",
    "    'neu': [],\n",
    "    'neg': []\n",
    "}\n",
    "df1 = pd.DataFrame(cols)\n",
    "\n",
    "# Pour chaque paroles dans le dataset\n",
    "for index in df.index:\n",
    "    lyrics = df.loc[index][\"paroles\"]\n",
    "\n",
    "    # Score de positivité\n",
    "    comp = sid.polarity_scores(lyrics)\n",
    "    comp = comp['compound']\n",
    "\n",
    "    # Récupération des valeurs initiales\n",
    "    for col in df.columns:\n",
    "        df1.loc[index, col] = df.loc[index][col]\n",
    "    # Ajout des nouvelles valeurs\n",
    "    df1.loc[index, \"pos\"] = int(comp >= 0.5)\n",
    "    df1.loc[index, \"neu\"] = int(0.5 > comp >= -0.5)\n",
    "    df1.loc[index, \"neg\"] = int(comp <-0.5)\n",
    "\n",
    "    # Affichage de la progression\n",
    "    print(f\"{round(counter/max_*100,2)}%\", end='\\r')\n",
    "\n",
    "    # Mise à jour du counter\n",
    "    counter += 1"
   ]
  },
  {
   "cell_type": "code",
   "execution_count": 15,
   "metadata": {},
   "outputs": [],
   "source": [
    "del df1['lyrics']"
   ]
  },
  {
   "cell_type": "code",
   "execution_count": 16,
   "metadata": {},
   "outputs": [
    {
     "data": {
      "text/html": [
       "<div>\n",
       "<style scoped>\n",
       "    .dataframe tbody tr th:only-of-type {\n",
       "        vertical-align: middle;\n",
       "    }\n",
       "\n",
       "    .dataframe tbody tr th {\n",
       "        vertical-align: top;\n",
       "    }\n",
       "\n",
       "    .dataframe thead th {\n",
       "        text-align: right;\n",
       "    }\n",
       "</style>\n",
       "<table border=\"1\" class=\"dataframe\">\n",
       "  <thead>\n",
       "    <tr style=\"text-align: right;\">\n",
       "      <th></th>\n",
       "      <th>song</th>\n",
       "      <th>year</th>\n",
       "      <th>artist</th>\n",
       "      <th>genre</th>\n",
       "      <th>pos</th>\n",
       "      <th>neu</th>\n",
       "      <th>neg</th>\n",
       "      <th>paroles</th>\n",
       "    </tr>\n",
       "  </thead>\n",
       "  <tbody>\n",
       "    <tr>\n",
       "      <td>0</td>\n",
       "      <td>i-got-that</td>\n",
       "      <td>2007.0</td>\n",
       "      <td>eazy-e</td>\n",
       "      <td>Hip-Hop</td>\n",
       "      <td>0.0</td>\n",
       "      <td>0.0</td>\n",
       "      <td>1.0</td>\n",
       "      <td>...\\n\\ntimbo- when you hit me on my phone bett...</td>\n",
       "    </tr>\n",
       "    <tr>\n",
       "      <td>1</td>\n",
       "      <td>8-ball-remix</td>\n",
       "      <td>2007.0</td>\n",
       "      <td>eazy-e</td>\n",
       "      <td>Hip-Hop</td>\n",
       "      <td>0.0</td>\n",
       "      <td>0.0</td>\n",
       "      <td>1.0</td>\n",
       "      <td>verse 1:\\ni don't drink brass monkey, like to ...</td>\n",
       "    </tr>\n",
       "    <tr>\n",
       "      <td>2</td>\n",
       "      <td>extra-special-thankz</td>\n",
       "      <td>2007.0</td>\n",
       "      <td>eazy-e</td>\n",
       "      <td>Hip-Hop</td>\n",
       "      <td>1.0</td>\n",
       "      <td>0.0</td>\n",
       "      <td>0.0</td>\n",
       "      <td>19 muthaphukkin 93,\\nand i'm back in this bitc...</td>\n",
       "    </tr>\n",
       "    <tr>\n",
       "      <td>3</td>\n",
       "      <td>boyz-in-da-hood</td>\n",
       "      <td>2007.0</td>\n",
       "      <td>eazy-e</td>\n",
       "      <td>Hip-Hop</td>\n",
       "      <td>0.0</td>\n",
       "      <td>0.0</td>\n",
       "      <td>1.0</td>\n",
       "      <td>hey yo man, remember that shit eazy did a whil...</td>\n",
       "    </tr>\n",
       "    <tr>\n",
       "      <td>4</td>\n",
       "      <td>automoblie</td>\n",
       "      <td>2007.0</td>\n",
       "      <td>eazy-e</td>\n",
       "      <td>Hip-Hop</td>\n",
       "      <td>0.0</td>\n",
       "      <td>0.0</td>\n",
       "      <td>1.0</td>\n",
       "      <td>yo, dre, man, i take this bitch out to the mov...</td>\n",
       "    </tr>\n",
       "    <tr>\n",
       "      <td>...</td>\n",
       "      <td>...</td>\n",
       "      <td>...</td>\n",
       "      <td>...</td>\n",
       "      <td>...</td>\n",
       "      <td>...</td>\n",
       "      <td>...</td>\n",
       "      <td>...</td>\n",
       "      <td>...</td>\n",
       "    </tr>\n",
       "    <tr>\n",
       "      <td>231309</td>\n",
       "      <td>who-am-i-drinking-tonight</td>\n",
       "      <td>2012.0</td>\n",
       "      <td>edens-edge</td>\n",
       "      <td>Country</td>\n",
       "      <td>1.0</td>\n",
       "      <td>0.0</td>\n",
       "      <td>0.0</td>\n",
       "      <td>i gotta say\\nboy, after only just a couple of ...</td>\n",
       "    </tr>\n",
       "    <tr>\n",
       "      <td>231310</td>\n",
       "      <td>liar</td>\n",
       "      <td>2012.0</td>\n",
       "      <td>edens-edge</td>\n",
       "      <td>Country</td>\n",
       "      <td>0.0</td>\n",
       "      <td>0.0</td>\n",
       "      <td>1.0</td>\n",
       "      <td>i helped you find her diamond ring\\nyou made m...</td>\n",
       "    </tr>\n",
       "    <tr>\n",
       "      <td>231311</td>\n",
       "      <td>last-supper</td>\n",
       "      <td>2012.0</td>\n",
       "      <td>edens-edge</td>\n",
       "      <td>Country</td>\n",
       "      <td>1.0</td>\n",
       "      <td>0.0</td>\n",
       "      <td>0.0</td>\n",
       "      <td>look at the couple in the corner booth\\nlooks ...</td>\n",
       "    </tr>\n",
       "    <tr>\n",
       "      <td>231312</td>\n",
       "      <td>christ-alone-live-in-studio</td>\n",
       "      <td>2012.0</td>\n",
       "      <td>edens-edge</td>\n",
       "      <td>Country</td>\n",
       "      <td>1.0</td>\n",
       "      <td>0.0</td>\n",
       "      <td>0.0</td>\n",
       "      <td>when i fly off this mortal earth\\nand i'm meas...</td>\n",
       "    </tr>\n",
       "    <tr>\n",
       "      <td>231313</td>\n",
       "      <td>amen</td>\n",
       "      <td>2012.0</td>\n",
       "      <td>edens-edge</td>\n",
       "      <td>Country</td>\n",
       "      <td>1.0</td>\n",
       "      <td>0.0</td>\n",
       "      <td>0.0</td>\n",
       "      <td>i heard from a friend of a friend of a friend ...</td>\n",
       "    </tr>\n",
       "  </tbody>\n",
       "</table>\n",
       "<p>230129 rows × 8 columns</p>\n",
       "</div>"
      ],
      "text/plain": [
       "                               song    year      artist    genre  pos  neu  \\\n",
       "0                        i-got-that  2007.0      eazy-e  Hip-Hop  0.0  0.0   \n",
       "1                      8-ball-remix  2007.0      eazy-e  Hip-Hop  0.0  0.0   \n",
       "2              extra-special-thankz  2007.0      eazy-e  Hip-Hop  1.0  0.0   \n",
       "3                   boyz-in-da-hood  2007.0      eazy-e  Hip-Hop  0.0  0.0   \n",
       "4                        automoblie  2007.0      eazy-e  Hip-Hop  0.0  0.0   \n",
       "...                             ...     ...         ...      ...  ...  ...   \n",
       "231309    who-am-i-drinking-tonight  2012.0  edens-edge  Country  1.0  0.0   \n",
       "231310                         liar  2012.0  edens-edge  Country  0.0  0.0   \n",
       "231311                  last-supper  2012.0  edens-edge  Country  1.0  0.0   \n",
       "231312  christ-alone-live-in-studio  2012.0  edens-edge  Country  1.0  0.0   \n",
       "231313                         amen  2012.0  edens-edge  Country  1.0  0.0   \n",
       "\n",
       "        neg                                            paroles  \n",
       "0       1.0  ...\\n\\ntimbo- when you hit me on my phone bett...  \n",
       "1       1.0  verse 1:\\ni don't drink brass monkey, like to ...  \n",
       "2       0.0  19 muthaphukkin 93,\\nand i'm back in this bitc...  \n",
       "3       1.0  hey yo man, remember that shit eazy did a whil...  \n",
       "4       1.0  yo, dre, man, i take this bitch out to the mov...  \n",
       "...     ...                                                ...  \n",
       "231309  0.0  i gotta say\\nboy, after only just a couple of ...  \n",
       "231310  1.0  i helped you find her diamond ring\\nyou made m...  \n",
       "231311  0.0  look at the couple in the corner booth\\nlooks ...  \n",
       "231312  0.0  when i fly off this mortal earth\\nand i'm meas...  \n",
       "231313  0.0  i heard from a friend of a friend of a friend ...  \n",
       "\n",
       "[230129 rows x 8 columns]"
      ]
     },
     "execution_count": 16,
     "metadata": {},
     "output_type": "execute_result"
    }
   ],
   "source": [
    "df1"
   ]
  },
  {
   "cell_type": "code",
   "execution_count": 23,
   "metadata": {},
   "outputs": [],
   "source": [
    "df1.to_excel(\"output.xlsx\",engine='xlsxwriter')"
   ]
  },
  {
   "cell_type": "code",
   "execution_count": 22,
   "metadata": {},
   "outputs": [
    {
     "name": "stdout",
     "output_type": "stream",
     "text": [
      "Collecting xlsxwriter\n",
      "\u001b[?25l  Downloading https://files.pythonhosted.org/packages/0d/0c/4376ce9d0773c9969271419d4c843bf9b845d831a555f5abb6229e74ac1e/XlsxWriter-1.2.7-py2.py3-none-any.whl (141kB)\n",
      "\u001b[K     |████████████████████████████████| 143kB 6.2MB/s eta 0:00:01\n",
      "\u001b[?25hInstalling collected packages: xlsxwriter\n",
      "Successfully installed xlsxwriter-1.2.7\n"
     ]
    }
   ],
   "source": [
    "#!pip install xlsxwriter"
   ]
  },
  {
   "cell_type": "code",
   "execution_count": 24,
   "metadata": {},
   "outputs": [
    {
     "name": "stdout",
     "output_type": "stream",
     "text": [
      "6.0\n",
      "4.0\n"
     ]
    }
   ],
   "source": [
    "plot_size = plt.rcParams[\"figure.figsize\"] \n",
    "print(plot_size[0]) \n",
    "print(plot_size[1])\n",
    "\n",
    "plot_size[0] = 8\n",
    "plot_size[1] = 6\n",
    "plt.rcParams[\"figure.figsize\"] = plot_size "
   ]
  },
  {
   "cell_type": "code",
   "execution_count": 25,
   "metadata": {},
   "outputs": [
    {
     "data": {
      "text/plain": [
       "<matplotlib.axes._subplots.AxesSubplot at 0x139d47fd0>"
      ]
     },
     "execution_count": 25,
     "metadata": {},
     "output_type": "execute_result"
    },
    {
     "data": {
      "image/png": "[encoded data removed]",
      "text/plain": [
       "<Figure size 576x432 with 1 Axes>"
      ]
     },
     "metadata": {},
     "output_type": "display_data"
    }
   ],
   "source": [
    "df1.genre.value_counts().plot(kind='pie', autopct='%1.0f%%')"
   ]
  },
  {
   "cell_type": "code",
   "execution_count": null,
   "metadata": {},
   "outputs": [],
   "source": [
    "#df1.artist.value_counts().plot(kind='pie', autopct='%1.0f%%')"
   ]
  }
 ],
 "metadata": {
  "kernelspec": {
   "display_name": "Python 3",
   "language": "python",
   "name": "python3"
  },
  "language_info": {
   "codemirror_mode": {
    "name": "ipython",
    "version": 3
   },
   "file_extension": ".py",
   "mimetype": "text/x-python",
   "name": "python",
   "nbconvert_exporter": "python",
   "pygments_lexer": "ipython3",
   "version": "3.7.4"
  }
 },
 "nbformat": 4,
 "nbformat_minor": 2
}
